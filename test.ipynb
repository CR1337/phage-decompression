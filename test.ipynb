{
 "cells": [
  {
   "cell_type": "code",
   "execution_count": 2,
   "id": "e5fd14a1",
   "metadata": {},
   "outputs": [],
   "source": [
    "from Bio import SeqIO\n",
    "from Bio.SeqRecord import SeqRecord\n",
    "from BCBio import GFF\n",
    "\n",
    "from dataclasses import dataclass\n",
    "from typing import List\n",
    "\n",
    "from Bio.Seq import Seq\n",
    "from Bio.SeqFeature import SeqFeature\n",
    "\n",
    "\n",
    "@dataclass\n",
    "class AnnotatedSequence:\n",
    "    record: SeqRecord\n",
    "    features: List[SeqFeature]\n",
    "\n",
    "    @property\n",
    "    def sequence(self) -> Seq:\n",
    "        return self.record.seq\n",
    "\n",
    "    def __len__(self) -> int:\n",
    "        return len(self.record.seq)\n",
    "\n",
    "\n",
    "def load_annotated_sequence_from_fasta(fasta_filename: str, gff_filename: str) -> AnnotatedSequence:\n",
    "    sequences = SeqIO.to_dict(SeqIO.parse(fasta_filename, \"fasta\"))\n",
    "    sequence = list(sequences.values())[0]\n",
    "    with open(gff_filename, 'r') as gff_file:\n",
    "        features = list(next(GFF.parse(gff_file, base_dict=sequences)).features)\n",
    "    return AnnotatedSequence(sequence, features)\n",
    "\n",
    "\n",
    "def load_annotated_sequence_from_genbank(genbank_filename: str) -> AnnotatedSequence:\n",
    "    record = next(SeqIO.parse(genbank_filename, 'genbank'))\n",
    "    sequence = record\n",
    "    features = [f for f in record.features if f.type != 'source']\n",
    "    return AnnotatedSequence(sequence, features)\n",
    "\n",
    "\n",
    "def load_sequence_from_fasta(fasta_filename: str) -> SeqRecord:\n",
    "    sequences = SeqIO.to_dict(SeqIO.parse(fasta_filename, \"fasta\"))\n",
    "    sequence = list(sequences.values())[0]\n",
    "    return sequence\n",
    "\n",
    "\n",
    "def load_sequence_from_genbank(genbank_filename: str) -> SeqRecord:\n",
    "    record = next(SeqIO.parse(genbank_filename, 'genbank'))\n",
    "    return record\n",
    "\n",
    "\n",
    "def store_annotated_sequence_as_fasta(sequence: AnnotatedSequence, fasta_filename: str, gff_filename: str):\n",
    "    record = SeqRecord(\n",
    "        seq=sequence.sequence,\n",
    "        id=sequence.record.id,\n",
    "        name=sequence.record.name,\n",
    "        description=sequence.record.description,\n",
    "        annotations=sequence.record.annotations,\n",
    "        features=sequence.features\n",
    "    )\n",
    "\n",
    "    with open(fasta_filename, \"w\") as fasta_file:\n",
    "        SeqIO.write(record, fasta_file, \"fasta\")\n",
    "\n",
    "    with open(gff_filename, \"w\") as gff_file:\n",
    "        GFF.write([record], gff_file)\n"
   ]
  },
  {
   "cell_type": "code",
   "execution_count": 3,
   "id": "3864ff10",
   "metadata": {},
   "outputs": [
    {
     "ename": "FileNotFoundError",
     "evalue": "[Errno 2] No such file or directory: 'GenomesDB/KX349323.fasta'",
     "output_type": "error",
     "traceback": [
      "\u001b[0;31m---------------------------------------------------------------------------\u001b[0m",
      "\u001b[0;31mFileNotFoundError\u001b[0m                         Traceback (most recent call last)",
      "Cell \u001b[0;32mIn[3], line 1\u001b[0m\n\u001b[0;32m----> 1\u001b[0m \u001b[43mload_annotated_sequence_from_fasta\u001b[49m\u001b[43m(\u001b[49m\u001b[38;5;124;43m\"\u001b[39;49m\u001b[38;5;124;43mGenomesDB/KX349323.fasta\u001b[39;49m\u001b[38;5;124;43m\"\u001b[39;49m\u001b[43m,\u001b[49m\u001b[43m \u001b[49m\u001b[38;5;124;43m\"\u001b[39;49m\u001b[38;5;124;43mGenomesDB/KX349323/KX349323.gff\u001b[39;49m\u001b[38;5;124;43m\"\u001b[39;49m\u001b[43m)\u001b[49m\n",
      "Cell \u001b[0;32mIn[2], line 26\u001b[0m, in \u001b[0;36mload_annotated_sequence_from_fasta\u001b[0;34m(fasta_filename, gff_filename)\u001b[0m\n\u001b[1;32m     25\u001b[0m \u001b[38;5;28;01mdef\u001b[39;00m\u001b[38;5;250m \u001b[39m\u001b[38;5;21mload_annotated_sequence_from_fasta\u001b[39m(fasta_filename: \u001b[38;5;28mstr\u001b[39m, gff_filename: \u001b[38;5;28mstr\u001b[39m) \u001b[38;5;241m-\u001b[39m\u001b[38;5;241m>\u001b[39m AnnotatedSequence:\n\u001b[0;32m---> 26\u001b[0m     sequences \u001b[38;5;241m=\u001b[39m SeqIO\u001b[38;5;241m.\u001b[39mto_dict(\u001b[43mSeqIO\u001b[49m\u001b[38;5;241;43m.\u001b[39;49m\u001b[43mparse\u001b[49m\u001b[43m(\u001b[49m\u001b[43mfasta_filename\u001b[49m\u001b[43m,\u001b[49m\u001b[43m \u001b[49m\u001b[38;5;124;43m\"\u001b[39;49m\u001b[38;5;124;43mfasta\u001b[39;49m\u001b[38;5;124;43m\"\u001b[39;49m\u001b[43m)\u001b[49m)\n\u001b[1;32m     27\u001b[0m     sequence \u001b[38;5;241m=\u001b[39m \u001b[38;5;28mlist\u001b[39m(sequences\u001b[38;5;241m.\u001b[39mvalues())[\u001b[38;5;241m0\u001b[39m]\n\u001b[1;32m     28\u001b[0m     \u001b[38;5;28;01mwith\u001b[39;00m \u001b[38;5;28mopen\u001b[39m(gff_filename, \u001b[38;5;124m'\u001b[39m\u001b[38;5;124mr\u001b[39m\u001b[38;5;124m'\u001b[39m) \u001b[38;5;28;01mas\u001b[39;00m gff_file:\n",
      "File \u001b[0;32m~/Documents/hpi/MP/phage-decompression/.venv/lib/python3.10/site-packages/Bio/SeqIO/__init__.py:626\u001b[0m, in \u001b[0;36mparse\u001b[0;34m(handle, format, alphabet)\u001b[0m\n\u001b[1;32m    624\u001b[0m iterator_generator \u001b[38;5;241m=\u001b[39m _FormatToIterator\u001b[38;5;241m.\u001b[39mget(\u001b[38;5;28mformat\u001b[39m)\n\u001b[1;32m    625\u001b[0m \u001b[38;5;28;01mif\u001b[39;00m iterator_generator:\n\u001b[0;32m--> 626\u001b[0m     \u001b[38;5;28;01mreturn\u001b[39;00m \u001b[43miterator_generator\u001b[49m\u001b[43m(\u001b[49m\u001b[43mhandle\u001b[49m\u001b[43m)\u001b[49m\n\u001b[1;32m    627\u001b[0m \u001b[38;5;28;01mif\u001b[39;00m \u001b[38;5;28mformat\u001b[39m \u001b[38;5;129;01min\u001b[39;00m AlignIO\u001b[38;5;241m.\u001b[39m_FormatToIterator:\n\u001b[1;32m    628\u001b[0m     \u001b[38;5;66;03m# Use Bio.AlignIO to read in the alignments\u001b[39;00m\n\u001b[1;32m    629\u001b[0m     \u001b[38;5;28;01mreturn\u001b[39;00m (r \u001b[38;5;28;01mfor\u001b[39;00m alignment \u001b[38;5;129;01min\u001b[39;00m AlignIO\u001b[38;5;241m.\u001b[39mparse(handle, \u001b[38;5;28mformat\u001b[39m) \u001b[38;5;28;01mfor\u001b[39;00m r \u001b[38;5;129;01min\u001b[39;00m alignment)\n",
      "File \u001b[0;32m~/Documents/hpi/MP/phage-decompression/.venv/lib/python3.10/site-packages/Bio/SeqIO/FastaIO.py:196\u001b[0m, in \u001b[0;36mFastaIterator.__init__\u001b[0;34m(self, source, alphabet)\u001b[0m\n\u001b[1;32m    194\u001b[0m \u001b[38;5;28;01mif\u001b[39;00m alphabet \u001b[38;5;129;01mis\u001b[39;00m \u001b[38;5;129;01mnot\u001b[39;00m \u001b[38;5;28;01mNone\u001b[39;00m:\n\u001b[1;32m    195\u001b[0m     \u001b[38;5;28;01mraise\u001b[39;00m \u001b[38;5;167;01mValueError\u001b[39;00m(\u001b[38;5;124m\"\u001b[39m\u001b[38;5;124mThe alphabet argument is no longer supported\u001b[39m\u001b[38;5;124m\"\u001b[39m)\n\u001b[0;32m--> 196\u001b[0m \u001b[38;5;28;43msuper\u001b[39;49m\u001b[43m(\u001b[49m\u001b[43m)\u001b[49m\u001b[38;5;241;43m.\u001b[39;49m\u001b[38;5;21;43m__init__\u001b[39;49m\u001b[43m(\u001b[49m\u001b[43msource\u001b[49m\u001b[43m,\u001b[49m\u001b[43m \u001b[49m\u001b[43mfmt\u001b[49m\u001b[38;5;241;43m=\u001b[39;49m\u001b[38;5;124;43m\"\u001b[39;49m\u001b[38;5;124;43mFasta\u001b[39;49m\u001b[38;5;124;43m\"\u001b[39;49m\u001b[43m)\u001b[49m\n\u001b[1;32m    197\u001b[0m \u001b[38;5;28;01mtry\u001b[39;00m:\n\u001b[1;32m    198\u001b[0m     line \u001b[38;5;241m=\u001b[39m \u001b[38;5;28mnext\u001b[39m(\u001b[38;5;28mself\u001b[39m\u001b[38;5;241m.\u001b[39mstream)\n",
      "File \u001b[0;32m~/Documents/hpi/MP/phage-decompression/.venv/lib/python3.10/site-packages/Bio/SeqIO/Interfaces.py:81\u001b[0m, in \u001b[0;36mSequenceIterator.__init__\u001b[0;34m(self, source, alphabet, fmt)\u001b[0m\n\u001b[1;32m     79\u001b[0m \u001b[38;5;28;01mif\u001b[39;00m \u001b[38;5;28misinstance\u001b[39m(source, _PathLikeTypes):\n\u001b[1;32m     80\u001b[0m     mode \u001b[38;5;241m=\u001b[39m modes[\u001b[38;5;241m0\u001b[39m]\n\u001b[0;32m---> 81\u001b[0m     \u001b[38;5;28mself\u001b[39m\u001b[38;5;241m.\u001b[39mstream \u001b[38;5;241m=\u001b[39m \u001b[38;5;28;43mopen\u001b[39;49m\u001b[43m(\u001b[49m\u001b[43msource\u001b[49m\u001b[43m,\u001b[49m\u001b[43m \u001b[49m\u001b[38;5;124;43m\"\u001b[39;49m\u001b[38;5;124;43mr\u001b[39;49m\u001b[38;5;124;43m\"\u001b[39;49m\u001b[43m \u001b[49m\u001b[38;5;241;43m+\u001b[39;49m\u001b[43m \u001b[49m\u001b[43mmode\u001b[49m\u001b[43m)\u001b[49m\n\u001b[1;32m     82\u001b[0m \u001b[38;5;28;01melse\u001b[39;00m:\n\u001b[1;32m     83\u001b[0m     value \u001b[38;5;241m=\u001b[39m source\u001b[38;5;241m.\u001b[39mread(\u001b[38;5;241m0\u001b[39m)\n",
      "\u001b[0;31mFileNotFoundError\u001b[0m: [Errno 2] No such file or directory: 'GenomesDB/KX349323.fasta'"
     ]
    }
   ],
   "source": [
    "load_annotated_sequence_from_fasta(\"GenomesDB/KX349323.fasta\", \"GenomesDB/KX349323/KX349323.gff\")"
   ]
  }
 ],
 "metadata": {
  "kernelspec": {
   "display_name": ".venv",
   "language": "python",
   "name": "python3"
  },
  "language_info": {
   "codemirror_mode": {
    "name": "ipython",
    "version": 3
   },
   "file_extension": ".py",
   "mimetype": "text/x-python",
   "name": "python",
   "nbconvert_exporter": "python",
   "pygments_lexer": "ipython3",
   "version": "3.10.12"
  }
 },
 "nbformat": 4,
 "nbformat_minor": 5
}
